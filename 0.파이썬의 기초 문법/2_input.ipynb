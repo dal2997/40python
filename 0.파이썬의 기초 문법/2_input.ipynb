{
 "cells": [
  {
   "cell_type": "code",
   "execution_count": null,
   "metadata": {},
   "outputs": [],
   "source": [
    "input(\"값을 입력해주세요.\")"
   ]
  },
  {
   "cell_type": "code",
   "execution_count": 3,
   "metadata": {},
   "outputs": [
    {
     "name": "stdout",
     "output_type": "stream",
     "text": [
      "158\n",
      "a값:24 b값:134\n"
     ]
    }
   ],
   "source": [
    "a=input(\"첫번째 문자열 입력:\")\n",
    "b=input(\"두번째 문자열 입력:\")\n",
    "print(int(a)+int(b)) \n",
    "print(f\"a값:{a} b값:{b}\")\n",
    "# 왜 input이 안되나 했는데, 재생 누르고 kernel을 설정한 뒤에, 한번 더 재생하면 됨."
   ]
  },
  {
   "cell_type": "code",
   "execution_count": null,
   "metadata": {},
   "outputs": [],
   "source": []
  }
 ],
 "metadata": {
  "kernelspec": {
   "display_name": "base",
   "language": "python",
   "name": "python3"
  },
  "language_info": {
   "codemirror_mode": {
    "name": "ipython",
    "version": 3
   },
   "file_extension": ".py",
   "mimetype": "text/x-python",
   "name": "python",
   "nbconvert_exporter": "python",
   "pygments_lexer": "ipython3",
   "version": "3.11.5"
  }
 },
 "nbformat": 4,
 "nbformat_minor": 2
}
