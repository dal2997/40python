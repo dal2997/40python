{
 "cells": [
  {
   "cell_type": "code",
   "execution_count": 1,
   "metadata": {},
   "outputs": [
    {
     "name": "stdout",
     "output_type": "stream",
     "text": [
      "0\n",
      "1\n",
      "2\n",
      "3\n",
      "4\n",
      "5\n",
      "6\n"
     ]
    }
   ],
   "source": [
    "#while문: 참과 거짓을 기준으로 조건이 거짓이 되기 전까지 무한 반복적으로 실행합니다.\n",
    "#for문: 반복되는 부분이나 범위를 구체적으로 지정해서 실행합니다.\n",
    "for i in range(7):\n",
    "  print(i)"
   ]
  },
  {
   "cell_type": "code",
   "execution_count": 2,
   "metadata": {},
   "outputs": [
    {
     "name": "stdout",
     "output_type": "stream",
     "text": [
      "5\n",
      "6\n",
      "7\n",
      "8\n",
      "9\n"
     ]
    }
   ],
   "source": [
    "for i in range(5,10):\n",
    "  print(i)"
   ]
  },
  {
   "cell_type": "code",
   "execution_count": 4,
   "metadata": {},
   "outputs": [
    {
     "name": "stdout",
     "output_type": "stream",
     "text": [
      "10\n",
      "9\n",
      "8\n",
      "7\n",
      "6\n"
     ]
    }
   ],
   "source": [
    "for i in range(10,5,-1):\n",
    "  print(i)"
   ]
  },
  {
   "cell_type": "code",
   "execution_count": 5,
   "metadata": {},
   "outputs": [
    {
     "name": "stdout",
     "output_type": "stream",
     "text": [
      "1\n",
      "2\n",
      "3\n",
      "4\n",
      "5\n",
      "안녕\n",
      "하세요\n"
     ]
    }
   ],
   "source": [
    "a_list=[1,2,3,4,5,\"안녕\",\"하세요\"]\n",
    "for i in a_list:\n",
    "  print(i)"
   ]
  },
  {
   "cell_type": "code",
   "execution_count": 6,
   "metadata": {},
   "outputs": [
    {
     "name": "stdout",
     "output_type": "stream",
     "text": [
      "h\n",
      "e\n",
      "l\n",
      "l\n",
      "o\n",
      " \n",
      "p\n",
      "y\n",
      "t\n",
      "h\n",
      "o\n",
      "n\n"
     ]
    }
   ],
   "source": [
    "a_str=\"hello python\"\n",
    "for i in a_str:\n",
    "  print(i)"
   ]
  },
  {
   "cell_type": "code",
   "execution_count": 4,
   "metadata": {},
   "outputs": [
    {
     "name": "stdout",
     "output_type": "stream",
     "text": [
      "i= 0 ***** k= 홍길동\n",
      "i= 1 ***** k= 장다인\n",
      "i= 2 ***** k= 김철수\n"
     ]
    }
   ],
   "source": [
    "name_list=[\"홍길동\",\"장다인\", \"김철수\"]\n",
    "age_list=[500,5,12]\n",
    "for i,k in enumerate(name_list):#enumerate를 이용하면 리스트에서 위치와 값을 가져올 수 있습니다.\n",
    "  print(\"i=\",i,end=' ***** ') #end에 빈칸조차 없으면 빈칸이 없게 나옴.*****이 부분이!\n",
    "  print(\"k=\",k)"
   ]
  },
  {
   "cell_type": "code",
   "execution_count": 6,
   "metadata": {},
   "outputs": [
    {
     "name": "stdout",
     "output_type": "stream",
     "text": [
      "홍길동 500\n",
      "장다인 5\n",
      "김철수 12\n",
      "홍길동 500\n",
      "장다인 5\n",
      "김철수 12\n"
     ]
    }
   ],
   "source": [
    "name_list=[\"홍길동\", \"장다인\", \"김철수\"]\n",
    "age_list=[500, 5, 12]\n",
    "for i,k in enumerate(name_list):\n",
    "  print(k,end=' ')\n",
    "  print(age_list[i])\n",
    "for i,k in enumerate(name_list):\n",
    "  print(name_list[i], end=' ')\n",
    "  print(age_list[i])"
   ]
  },
  {
   "cell_type": "code",
   "execution_count": 7,
   "metadata": {},
   "outputs": [
    {
     "name": "stdout",
     "output_type": "stream",
     "text": [
      "sad 123\n",
      "stressed 442\n",
      "angry 153\n"
     ]
    }
   ],
   "source": [
    "name_list=[\"sad\",\"stressed\",\"angry\"]\n",
    "action_list=[123,442,153]\n",
    "for i in range(len(name_list)):\n",
    "  print(name_list[i],end=' ')\n",
    "  print(action_list[i])"
   ]
  },
  {
   "cell_type": "code",
   "execution_count": 3,
   "metadata": {},
   "outputs": [
    {
     "name": "stdout",
     "output_type": "stream",
     "text": [
      "[0, 1, 2, 3, 4, 5, 6, 7, 8, 9]\n",
      "[0, 1, 2, 3, 4, 5, 6, 7, 8, 9]\n"
     ]
    }
   ],
   "source": [
    "test_list=[i for i in range(10)] #range(10)은 0,1,2,3,4,5,6,7,8,9 이다. 마지막숫자. 10은 포함X\n",
    "print(test_list)\n",
    "\n",
    "test2_list=[]\n",
    "for i in range(10):\n",
    "  test2_list.append(i)\n",
    "print(test2_list)"
   ]
  },
  {
   "cell_type": "code",
   "execution_count": 4,
   "metadata": {},
   "outputs": [
    {
     "name": "stdout",
     "output_type": "stream",
     "text": [
      "[0, 5, 10, 15, 20, 25, 30, 35, 40, 45]\n",
      "[0, 0, 0, 0, 0, 0, 0, 0, 0, 0]\n"
     ]
    }
   ],
   "source": [
    "test_list=[i*5 for i in range(10)]\n",
    "print(test_list)\n",
    "test2_list=[0 for i in range(10)]\n",
    "print(test2_list)"
   ]
  },
  {
   "cell_type": "code",
   "execution_count": 5,
   "metadata": {},
   "outputs": [
    {
     "name": "stdout",
     "output_type": "stream",
     "text": [
      "0\n",
      "1\n",
      "2\n",
      "3\n",
      "4\n"
     ]
    }
   ],
   "source": [
    "a=0\n",
    "while a<5:\n",
    "  print(a)\n",
    "  a=a+1"
   ]
  },
  {
   "cell_type": "code",
   "execution_count": 6,
   "metadata": {},
   "outputs": [
    {
     "name": "stdout",
     "output_type": "stream",
     "text": [
      "0\n",
      "1\n",
      "2\n",
      "3\n",
      "4\n"
     ]
    }
   ],
   "source": [
    "a=0\n",
    "while True:\n",
    "  print(a)\n",
    "  a=a+1\n",
    "  if a >= 5:\n",
    "    break"
   ]
  },
  {
   "cell_type": "code",
   "execution_count": null,
   "metadata": {},
   "outputs": [],
   "source": []
  }
 ],
 "metadata": {
  "kernelspec": {
   "display_name": "base",
   "language": "python",
   "name": "python3"
  },
  "language_info": {
   "codemirror_mode": {
    "name": "ipython",
    "version": 3
   },
   "file_extension": ".py",
   "mimetype": "text/x-python",
   "name": "python",
   "nbconvert_exporter": "python",
   "pygments_lexer": "ipython3",
   "version": "3.11.5"
  }
 },
 "nbformat": 4,
 "nbformat_minor": 2
}
