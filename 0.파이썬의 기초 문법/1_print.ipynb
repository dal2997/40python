{
 "cells": [
  {
   "cell_type": "code",
   "execution_count": 9,
   "metadata": {},
   "outputs": [
    {
     "name": "stdout",
     "output_type": "stream",
     "text": [
      "hello\n"
     ]
    }
   ],
   "source": [
    "print('hello')"
   ]
  },
  {
   "cell_type": "code",
   "execution_count": 10,
   "metadata": {},
   "outputs": [
    {
     "name": "stdout",
     "output_type": "stream",
     "text": [
      "안녕 하세요 반갑습니다\n"
     ]
    }
   ],
   "source": [
    "print('안녕','하세요','반갑습니다')"
   ]
  },
  {
   "cell_type": "code",
   "execution_count": 11,
   "metadata": {},
   "outputs": [
    {
     "name": "stdout",
     "output_type": "stream",
     "text": [
      "오늘은 뭘 할지 고민이다\n",
      "      고민해봐도 소용없지만\n",
      "      가슴이 막막하고\n",
      "      먹먹하고\n",
      "      씁쓸하다\n",
      "      회사가기 싫다\n",
      "      \n"
     ]
    }
   ],
   "source": [
    "print(\"\"\"오늘은 뭘 할지 고민이다\n",
    "      고민해봐도 소용없지만\n",
    "      가슴이 막막하고\n",
    "      먹먹하고\n",
    "      씁쓸하다\n",
    "      회사가기 싫다\n",
    "      \"\"\")"
   ]
  },
  {
   "cell_type": "code",
   "execution_count": 12,
   "metadata": {},
   "outputs": [
    {
     "name": "stdout",
     "output_type": "stream",
     "text": [
      "회사가서 코딩공부해야지.\n",
      "      파이썬 공부 재밌으니까.\n",
      "      이거나 하면서 시간 때우고,\n",
      "      돈 벌 궁리를 열심히 해야겠다.\n"
     ]
    }
   ],
   "source": [
    "print('''회사가서 코딩공부해야지.\n",
    "      파이썬 공부 재밌으니까.\n",
    "      이거나 하면서 시간 때우고,\n",
    "      돈 벌 궁리를 열심히 해야겠다.''')"
   ]
  },
  {
   "cell_type": "code",
   "execution_count": 13,
   "metadata": {},
   "outputs": [
    {
     "name": "stdout",
     "output_type": "stream",
     "text": [
      "실제로 한줄인데줄바꿈을 하고싶어서역슬래시를 사용하는것\n"
     ]
    }
   ],
   "source": [
    "print(\"실제로 한줄인데\"\\\n",
    "      \"줄바꿈을 하고싶어서\"\\\n",
    "        \"역슬래시를 사용하는것\")"
   ]
  },
  {
   "cell_type": "code",
   "execution_count": 14,
   "metadata": {},
   "outputs": [
    {
     "name": "stdout",
     "output_type": "stream",
     "text": [
      "a값:123 b값:안녕하세요\n"
     ]
    }
   ],
   "source": [
    "a=123\n",
    "b=\"안녕하세요\"\n",
    "print(\"a값:{} b값:{}\".format(a,b))"
   ]
  },
  {
   "cell_type": "code",
   "execution_count": 15,
   "metadata": {},
   "outputs": [
    {
     "name": "stdout",
     "output_type": "stream",
     "text": [
      "a값:123 b값:안녕하세요.\n"
     ]
    }
   ],
   "source": [
    "a=123\n",
    "b=\"안녕하세요.\"\n",
    "print(f\"a값:{a} b값:{b}\")"
   ]
  },
  {
   "cell_type": "code",
   "execution_count": null,
   "metadata": {},
   "outputs": [],
   "source": []
  }
 ],
 "metadata": {
  "kernelspec": {
   "display_name": "base",
   "language": "python",
   "name": "python3"
  },
  "language_info": {
   "codemirror_mode": {
    "name": "ipython",
    "version": 3
   },
   "file_extension": ".py",
   "mimetype": "text/x-python",
   "name": "python",
   "nbconvert_exporter": "python",
   "pygments_lexer": "ipython3",
   "version": "3.11.5"
  }
 },
 "nbformat": 4,
 "nbformat_minor": 2
}
