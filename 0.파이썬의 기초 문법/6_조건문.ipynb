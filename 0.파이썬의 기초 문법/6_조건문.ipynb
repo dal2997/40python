{
 "cells": [
  {
   "cell_type": "code",
   "execution_count": 2,
   "metadata": {},
   "outputs": [
    {
     "name": "stdout",
     "output_type": "stream",
     "text": [
      "두 개의 값은 같습니다.\n"
     ]
    }
   ],
   "source": [
    "a=1\n",
    "b=1\n",
    "if a==b:\n",
    "  print(\"두 개의 값은 같습니다.\")\n",
    "if a!=b:\n",
    "  print(\"두 개의 값은 같지 않습니다.\")\n"
   ]
  },
  {
   "cell_type": "code",
   "execution_count": 3,
   "metadata": {},
   "outputs": [
    {
     "name": "stdout",
     "output_type": "stream",
     "text": [
      "두 개의 값은 같지 않습니다.\n"
     ]
    }
   ],
   "source": [
    "a=1\n",
    "b=2\n",
    "if a==b:\n",
    "  print(\"두 개의 값은 같습니다.\")\n",
    "else:\n",
    "  print(\"두 개의 값은 같지 않습니다.\")"
   ]
  },
  {
   "cell_type": "code",
   "execution_count": 4,
   "metadata": {},
   "outputs": [
    {
     "name": "stdout",
     "output_type": "stream",
     "text": [
      "b 값이 더 큽니다.\n"
     ]
    }
   ],
   "source": [
    "a=1\n",
    "b=2\n",
    "if a>b:\n",
    "  print(\"a 값이 더 큽니다.\")\n",
    "elif a<b:\n",
    "  print(\"b 값이 더 큽니다.\")\n",
    "else:\n",
    "  print(\"두 개의 값은 같습니다.\")"
   ]
  },
  {
   "cell_type": "code",
   "execution_count": 6,
   "metadata": {},
   "outputs": [
    {
     "name": "stdout",
     "output_type": "stream",
     "text": [
      "a값이 더 크거나 같습니다.\n",
      "a값이 더 작거나 같습니다.\n"
     ]
    }
   ],
   "source": [
    "a=1\n",
    "b=1\n",
    "if a<=b:\n",
    "  print(\"a값이 더 크거나 같습니다.\")\n",
    "if a>=b:\n",
    "  print(\"a값이 더 작거나 같습니다.\")"
   ]
  },
  {
   "cell_type": "code",
   "execution_count": 5,
   "metadata": {},
   "outputs": [
    {
     "name": "stdout",
     "output_type": "stream",
     "text": [
      "두 조건 모두 만족\n",
      "두 조건 중 하나라도 만족하면\n"
     ]
    }
   ],
   "source": [
    "a=1\n",
    "b=1\n",
    "c=2\n",
    "d=2\n",
    "if a==b and c==d:\n",
    "  print(\"두 조건 모두 만족\")\n",
    "if a==b or c==d:\n",
    "  print(\"두 조건 중 하나라도 만족하면\")\n",
    "  "
   ]
  },
  {
   "cell_type": "code",
   "execution_count": 7,
   "metadata": {},
   "outputs": [
    {
     "name": "stdout",
     "output_type": "stream",
     "text": [
      "hellod python 문자열이 같습니다.\n",
      "hello 가 포함되어 있습니다.\n",
      "hi가 포함되어 있지 않습니다.\n"
     ]
    }
   ],
   "source": [
    "a_str=\"hello python\"\n",
    "if a_str==\"hello python\":\n",
    "  print(\"hellod python 문자열이 같습니다.\")\n",
    "if a_str==\"hi python\":\n",
    "  print(\"hi python 문자열이 같습니다.\")\n",
    "if \"hello\" in a_str:\n",
    "  print(\"hello 가 포함되어 있습니다.\")\n",
    "if \"hello\" not in a_str:\n",
    "  print(\"hello가 포함되어 있지 않습니다.\")\n",
    "if \"hi\" not in a_str:\n",
    "  print(\"hi가 포함되어 있지 않습니다.\")"
   ]
  },
  {
   "cell_type": "code",
   "execution_count": 10,
   "metadata": {},
   "outputs": [
    {
     "name": "stdout",
     "output_type": "stream",
     "text": [
      "a_list에 안녕이 포함되어 있습니다.\n",
      "a_list에 숫자 2가 포함되어 있습니다.\n"
     ]
    }
   ],
   "source": [
    "a_list=[\"안녕\",1,2,\"파이썬\"]\n",
    "if \"안녕\" in a_list:\n",
    "  print(\"a_list에\",a_list[0]+\"이 포함되어 있습니다.\")\n",
    "if 2 in a_list:\n",
    "  print(\"a_list에 숫자 2가 포함되어 있습니다.\")\n"
   ]
  },
  {
   "cell_type": "code",
   "execution_count": 11,
   "metadata": {},
   "outputs": [
    {
     "name": "stdout",
     "output_type": "stream",
     "text": [
      "a_list에 숫자 5는 없습니다.\n"
     ]
    }
   ],
   "source": [
    "a_list=[\"안녕\",1,2,\"파이썬\"]\n",
    "if \"안녕\" not in a_list:\n",
    "  print(\"a_list에 안녕이 포함되어 있지 않습니다.\")\n",
    "if 5 not in a_list:\n",
    "  print(\"a_list에 숫자 5는 없습니다.\")"
   ]
  },
  {
   "cell_type": "code",
   "execution_count": null,
   "metadata": {},
   "outputs": [],
   "source": []
  }
 ],
 "metadata": {
  "kernelspec": {
   "display_name": "base",
   "language": "python",
   "name": "python3"
  },
  "language_info": {
   "codemirror_mode": {
    "name": "ipython",
    "version": 3
   },
   "file_extension": ".py",
   "mimetype": "text/x-python",
   "name": "python",
   "nbconvert_exporter": "python",
   "pygments_lexer": "ipython3",
   "version": "3.11.5"
  }
 },
 "nbformat": 4,
 "nbformat_minor": 2
}
