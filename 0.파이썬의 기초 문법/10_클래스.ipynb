{
 "cells": [
  {
   "cell_type": "code",
   "execution_count": 2,
   "metadata": {},
   "outputs": [
    {
     "name": "stdout",
     "output_type": "stream",
     "text": [
      "hello\n",
      "hi\n",
      "hello\n",
      "hi\n"
     ]
    }
   ],
   "source": [
    "class Greet():\n",
    "  def hello(self):\n",
    "    print(\"hello\")\n",
    "  def hi(self):\n",
    "    print(\"hi\")\n",
    "\n",
    "human1=Greet()\n",
    "human2=Greet()\n",
    "human1.hello()\n",
    "human2.hi()\n",
    "human2.hello()\n",
    "human2.hi()\n"
   ]
  },
  {
   "cell_type": "code",
   "execution_count": 6,
   "metadata": {},
   "outputs": [
    {
     "name": "stdout",
     "output_type": "stream",
     "text": [
      "이름: 김철수, 나이: 17, 좋아하는 것: 축구\n",
      "이름: 장다인, 나이: 5, 좋아하는 것: 헬로카봇\n"
     ]
    }
   ],
   "source": [
    "class Student(): #Student() 클래스를 생성했습니다. __init__메서드는 객체를 만들 때 자동으로 동작하는 매서드입니다. name, age, like를 입력받습니다. self는 자기 자신으로 클래스 메서드(함수)를 만들 때 꼭 붙여줍니다.\n",
    "  def __init__(self,name,age,like):\n",
    "    self.name=name\n",
    "    self.age=age\n",
    "    self.like=like #self.name, self.age, self.like는 Student()클래스에서 사용하는 클래스변수로 클래스내에 다른 메서드(함수)에서 사용 가능합니다.\n",
    "  def studentInfo(self):\n",
    "    print(f\"이름: {self.name}, 나이: {self.age}, 좋아하는 것: {self.like}\")\n",
    "김철수 = Student(\"김철수\", 17, \"축구\")\n",
    "장다인 = Student(\"장다인\", 5, \"헬로카봇\")\n",
    "김철수.studentInfo()\n",
    "장다인.studentInfo()"
   ]
  },
  {
   "cell_type": "code",
   "execution_count": 2,
   "metadata": {},
   "outputs": [
    {
     "name": "stdout",
     "output_type": "stream",
     "text": [
      "엄마는\n",
      "키가 크다.\n",
      "공부를 잘한다.\n",
      "딸은\n",
      "키가 크다.\n",
      "공부를 잘한다.\n",
      "운동을 잘한다.\n"
     ]
    }
   ],
   "source": [
    "class Mother():\n",
    "  def characteristic(self):\n",
    "    print(\"키가 크다.\")\n",
    "    print(\"공부를 잘한다.\")\n",
    "class Daughter(Mother):#Daughter(Mother)클래스는 Mother클래스를 상속받았고 Daughter()클래스의 characteristic(self)은 super().characteristic()로부터 상속받은 \"키가 크다\"\"공부를 잘한다.\"와 자기 자신이 잘하는 \"운동을 잘한다.\"를 출력합니다.\n",
    "  def characteristic(self):\n",
    "    super().characteristic()\n",
    "    print(\"운동을 잘한다.\")\n",
    "엄마=Mother()\n",
    "딸=Daughter()\n",
    "print(\"엄마는\")\n",
    "엄마.characteristic()\n",
    "print(\"딸은\")\n",
    "딸.characteristic()"
   ]
  },
  {
   "cell_type": "code",
   "execution_count": 5,
   "metadata": {},
   "outputs": [
    {
     "name": "stdout",
     "output_type": "stream",
     "text": [
      "돈은\n",
      "연금계좌\n",
      "청약계좌\n",
      "ISA\n",
      "월급은\n",
      "연금계좌\n",
      "청약계좌\n",
      "ISA\n",
      "full job\n",
      "side job\n"
     ]
    }
   ],
   "source": [
    "#연습1\n",
    "class money():\n",
    "  def account(self):\n",
    "    print(\"연금계좌\")\n",
    "    print(\"청약계좌\")\n",
    "    print(\"ISA\")\n",
    "class salary(money):\n",
    "  def account(self):\n",
    "    super().account()\n",
    "    print(\"full job\")\n",
    "    print(\"side job\")\n",
    "돈=money()\n",
    "월급=salary()\n",
    "print(\"돈은\")\n",
    "돈.account()\n",
    "print(\"월급은\")\n",
    "월급.account()\n"
   ]
  },
  {
   "cell_type": "code",
   "execution_count": 11,
   "metadata": {},
   "outputs": [
    {
     "name": "stdout",
     "output_type": "stream",
     "text": [
      "엄마는\n",
      "키가 크다.\n",
      "공부를 잘한다.\n",
      "딸은\n",
      "키가 크다.\n",
      "공부를 잘한다.\n",
      "운동을 잘한다.\n"
     ]
    }
   ],
   "source": [
    "class Mother():\n",
    "  def __init__(self):\n",
    "    print(\"키가 크다.\")\n",
    "    print(\"공부를 잘한다.\")\n",
    "class Daughter(Mother):\n",
    "  def __init__(self):\n",
    "    super().__init__()\n",
    "    print(\"운동을 잘한다.\")\n",
    "\n",
    "print(\"엄마는\")\n",
    "엄마=Mother()\n",
    "print(\"딸은\")\n",
    "딸=Daughter()"
   ]
  },
  {
   "cell_type": "code",
   "execution_count": null,
   "metadata": {},
   "outputs": [],
   "source": []
  }
 ],
 "metadata": {
  "kernelspec": {
   "display_name": "base",
   "language": "python",
   "name": "python3"
  },
  "language_info": {
   "codemirror_mode": {
    "name": "ipython",
    "version": 3
   },
   "file_extension": ".py",
   "mimetype": "text/x-python",
   "name": "python",
   "nbconvert_exporter": "python",
   "pygments_lexer": "ipython3",
   "version": "3.11.5"
  }
 },
 "nbformat": 4,
 "nbformat_minor": 2
}
