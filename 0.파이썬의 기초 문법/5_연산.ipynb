{
 "cells": [
  {
   "cell_type": "code",
   "execution_count": 2,
   "metadata": {},
   "outputs": [
    {
     "name": "stdout",
     "output_type": "stream",
     "text": [
      "더하기: 39\n",
      "빼기: -2890446747\n",
      "곱하기: 290\n",
      "나누기 0.3448275862068966\n"
     ]
    }
   ],
   "source": [
    "#사칙연산\n",
    "print(\"더하기:\",10+29)\n",
    "print(\"빼기:\",1293080-2891739827)\n",
    "print(\"곱하기:\",10*29)\n",
    "print(\"나누기\",10/29)"
   ]
  },
  {
   "cell_type": "code",
   "execution_count": 4,
   "metadata": {},
   "outputs": [
    {
     "name": "stdout",
     "output_type": "stream",
     "text": [
      "10**2: 100\n",
      "10**3: 1000\n",
      "10**4: 10000\n"
     ]
    }
   ],
   "source": [
    "print(\"10**2:\",10**2)\n",
    "print(\"10**3:\",10**3)\n",
    "print(\"10**4:\",10**4)"
   ]
  },
  {
   "cell_type": "code",
   "execution_count": 5,
   "metadata": {},
   "outputs": [
    {
     "name": "stdout",
     "output_type": "stream",
     "text": [
      "몫: 6\n",
      "나머지: 4\n"
     ]
    }
   ],
   "source": [
    "print(\"몫:\",40//6)\n",
    "print(\"나머지:\",40%6)\n"
   ]
  },
  {
   "cell_type": "code",
   "execution_count": 6,
   "metadata": {},
   "outputs": [
    {
     "name": "stdout",
     "output_type": "stream",
     "text": [
      "0\n",
      "1\n",
      "1\n",
      "1\n",
      "False\n",
      "True\n",
      "True\n",
      "True\n"
     ]
    }
   ],
   "source": [
    "#논리연산 or, and, not\n",
    "print(0 or 0)\n",
    "print(0 or 1)\n",
    "print(1 or 0)\n",
    "print(1 or 1)\n",
    "print(False or False)\n",
    "print(False or True)#or연산은 하나라도 참이면 참이다.\n",
    "print(True or False)\n",
    "print(True or True)"
   ]
  },
  {
   "cell_type": "code",
   "execution_count": 7,
   "metadata": {},
   "outputs": [
    {
     "name": "stdout",
     "output_type": "stream",
     "text": [
      "0\n",
      "0\n",
      "0\n",
      "1\n",
      "False\n",
      "False\n",
      "False\n",
      "True\n"
     ]
    }
   ],
   "source": [
    "print(0 and 0)\n",
    "print(0 and 1)\n",
    "print(1 and 0)\n",
    "print(1 and 1)\n",
    "print(False and False)\n",
    "print(False and True)#and연산은 모든 값이 1이상이거나, True일 때만 참인 연산입니다.\n",
    "print(True and False)\n",
    "print(True and True)"
   ]
  },
  {
   "cell_type": "code",
   "execution_count": 9,
   "metadata": {},
   "outputs": [
    {
     "name": "stdout",
     "output_type": "stream",
     "text": [
      "True\n",
      "False\n",
      "True\n",
      "False\n"
     ]
    }
   ],
   "source": [
    "print(not 0)\n",
    "print(not 1)\n",
    "print(not False)\n",
    "print(not True)\n"
   ]
  },
  {
   "cell_type": "code",
   "execution_count": 10,
   "metadata": {},
   "outputs": [
    {
     "name": "stdout",
     "output_type": "stream",
     "text": [
      "True\n",
      "True\n",
      "True\n",
      "False\n",
      "True\n",
      "False\n"
     ]
    }
   ],
   "source": [
    "print(10==10)\n",
    "print(10>=10)\n",
    "print(10<=10)\n",
    "print(10<5)\n",
    "print(10>5)\n",
    "print(10!=10)\n"
   ]
  },
  {
   "cell_type": "code",
   "execution_count": 11,
   "metadata": {},
   "outputs": [
    {
     "name": "stdout",
     "output_type": "stream",
     "text": [
      "True\n",
      "False\n",
      "True\n",
      "True\n"
     ]
    }
   ],
   "source": [
    "a_list=['a',2,'hello',3]\n",
    "print('a' in a_list)\n",
    "print(1 in a_list)\n",
    "print('hello' in a_list)\n",
    "print(3 in a_list)\n"
   ]
  },
  {
   "cell_type": "code",
   "execution_count": 12,
   "metadata": {},
   "outputs": [
    {
     "name": "stdout",
     "output_type": "stream",
     "text": [
      "True\n",
      "True\n",
      "False\n"
     ]
    }
   ],
   "source": [
    "a_str=\"hello python\"\n",
    "print(\"python\" in a_str)\n",
    "print(\"py\" in a_str)\n",
    "print(\"40\" in a_str)"
   ]
  },
  {
   "cell_type": "code",
   "execution_count": null,
   "metadata": {},
   "outputs": [],
   "source": []
  }
 ],
 "metadata": {
  "kernelspec": {
   "display_name": "base",
   "language": "python",
   "name": "python3"
  },
  "language_info": {
   "codemirror_mode": {
    "name": "ipython",
    "version": 3
   },
   "file_extension": ".py",
   "mimetype": "text/x-python",
   "name": "python",
   "nbconvert_exporter": "python",
   "pygments_lexer": "ipython3",
   "version": "3.11.5"
  }
 },
 "nbformat": 4,
 "nbformat_minor": 2
}
