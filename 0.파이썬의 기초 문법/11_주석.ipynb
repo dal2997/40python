{
 "cells": [
  {
   "cell_type": "code",
   "execution_count": null,
   "metadata": {},
   "outputs": [],
   "source": [
    "#주석입니다.\n",
    "#사용자 설명 코드 입니다.\n",
    "print(\"hello\") "
   ]
  },
  {
   "cell_type": "code",
   "execution_count": null,
   "metadata": {},
   "outputs": [],
   "source": [
    "\"\"\"\n",
    "쌍따음표 세개로 사용할 수 있습니다.\n",
    "\"\"\""
   ]
  },
  {
   "cell_type": "code",
   "execution_count": null,
   "metadata": {},
   "outputs": [],
   "source": [
    "'''\n",
    "따음표 세개도 가능\n",
    "여러줄을 늘여뜨리기 가능.\n",
    "'''"
   ]
  },
  {
   "cell_type": "code",
   "execution_count": 1,
   "metadata": {},
   "outputs": [
    {
     "name": "stdout",
     "output_type": "stream",
     "text": [
      "\n",
      "여러줄의\n",
      "문자열을 입력할 때도 \n",
      "쌍따음표 또는 따음표\n",
      "3개를 사용할 수 있습니다.\n",
      "\n"
     ]
    }
   ],
   "source": [
    "a_str=\"\"\"\n",
    "여러줄의\n",
    "문자열을 입력할 때도 \n",
    "쌍따음표 또는 따음표\n",
    "3개를 사용할 수 있습니다.\n",
    "\"\"\"\n",
    "print(a_str) "
   ]
  },
  {
   "cell_type": "code",
   "execution_count": 3,
   "metadata": {},
   "outputs": [],
   "source": [
    "#원하는 부분만을 주석할 때는 [Ctrl+/]를 눌러 주석을 지정하거나 풀 수 있습니다.\n",
    "\n",
    "# a=1\n",
    "# b=2\n",
    "# print(a+b)"
   ]
  },
  {
   "cell_type": "code",
   "execution_count": null,
   "metadata": {},
   "outputs": [],
   "source": []
  }
 ],
 "metadata": {
  "kernelspec": {
   "display_name": "base",
   "language": "python",
   "name": "python3"
  },
  "language_info": {
   "codemirror_mode": {
    "name": "ipython",
    "version": 3
   },
   "file_extension": ".py",
   "mimetype": "text/x-python",
   "name": "python",
   "nbconvert_exporter": "python",
   "pygments_lexer": "ipython3",
   "version": "3.11.5"
  }
 },
 "nbformat": 4,
 "nbformat_minor": 2
}
