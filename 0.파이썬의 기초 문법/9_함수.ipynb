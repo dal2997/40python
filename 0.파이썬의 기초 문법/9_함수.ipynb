{
 "cells": [
  {
   "cell_type": "code",
   "execution_count": 7,
   "metadata": {},
   "outputs": [
    {
     "name": "stdout",
     "output_type": "stream",
     "text": [
      "231123 일기\n",
      "오늘은 평소처럼 회사갔다가어제 하빈이가 사라고 했던 portal2를 같이 디코하면서 하기로 해서 했다.비록 하빈이가 어제오늘 잠을 못자서 늦게 봤지만포탈 짱 재밌었다.2_2까지 했는데 정말 토나오게 어지러웠다.그래도 재밌었다.\n"
     ]
    }
   ],
   "source": [
    "def dear_diary():\n",
    "  print(\"231123 일기\")\n",
    "  print(\"오늘은 평소처럼 회사갔다가\"\n",
    "        \"어제 하빈이가 사라고 했던 portal2를 같이 디코하면서 하기로 해서 했다.\"\n",
    "        \"비록 하빈이가 어제오늘 잠을 못자서 늦게 봤지만\"\n",
    "        \"포탈 짱 재밌었다.\"\n",
    "        \"2_2까지 했는데 정말 토나오게 어지러웠다.\"\n",
    "        \"그래도 재밌었다.\"\n",
    "      )\n",
    "\n",
    "dear_diary()"
   ]
  },
  {
   "cell_type": "code",
   "execution_count": 9,
   "metadata": {},
   "outputs": [
    {
     "name": "stdout",
     "output_type": "stream",
     "text": [
      "makee them happy😊\n",
      "makee them happy😊\n",
      "makee them happy😊\n"
     ]
    }
   ],
   "source": [
    "def reo():\n",
    "  print(\"makee them happy😊\")\n",
    "\n",
    "for i in range(3):\n",
    "  reo()"
   ]
  },
  {
   "cell_type": "code",
   "execution_count": 12,
   "metadata": {},
   "outputs": [
    {
     "name": "stdout",
     "output_type": "stream",
     "text": [
      "3\n"
     ]
    }
   ],
   "source": [
    "def func_add(a,b):\n",
    "  return a+b\n",
    "c =func_add(1,2)\n",
    "print(c)"
   ]
  },
  {
   "cell_type": "code",
   "execution_count": 17,
   "metadata": {},
   "outputs": [
    {
     "name": "stdout",
     "output_type": "stream",
     "text": [
      "335\n"
     ]
    }
   ],
   "source": [
    "def func_mux(a,b):\n",
    "  mux=a+b\n",
    "  return mux\n",
    "c=func_mux(2,333)\n",
    "print(c)"
   ]
  },
  {
   "cell_type": "code",
   "execution_count": 20,
   "metadata": {},
   "outputs": [
    {
     "name": "stdout",
     "output_type": "stream",
     "text": [
      "4 3\n"
     ]
    }
   ],
   "source": [
    "def func_add_mux(a,b):\n",
    "  add=a+b\n",
    "  mux=a*b\n",
    "  return add,mux\n",
    "a,b= func_add_mux(1,3)\n",
    "print(a,b)"
   ]
  },
  {
   "cell_type": "code",
   "execution_count": 22,
   "metadata": {},
   "outputs": [
    {
     "name": "stdout",
     "output_type": "stream",
     "text": [
      "3\n"
     ]
    }
   ],
   "source": [
    "def func_add_mux(a,b):\n",
    "  add = a+b\n",
    "  mux = a*b\n",
    "  return add, mux\n",
    "_,b = func_add_mux(1,3) #func_add_mux(a,b)는 두 개의 값을 반환하지만, _,b=func_add_mux(1,3)은 첫번째 값은 받지 않겠다는 의미임.\n",
    "print(b)"
   ]
  },
  {
   "cell_type": "code",
   "execution_count": null,
   "metadata": {},
   "outputs": [],
   "source": []
  }
 ],
 "metadata": {
  "kernelspec": {
   "display_name": "base",
   "language": "python",
   "name": "python3"
  },
  "language_info": {
   "codemirror_mode": {
    "name": "ipython",
    "version": 3
   },
   "file_extension": ".py",
   "mimetype": "text/x-python",
   "name": "python",
   "nbconvert_exporter": "python",
   "pygments_lexer": "ipython3",
   "version": "3.11.5"
  }
 },
 "nbformat": 4,
 "nbformat_minor": 2
}
