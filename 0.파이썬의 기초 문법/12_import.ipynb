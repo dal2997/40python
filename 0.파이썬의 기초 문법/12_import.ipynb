{
 "cells": [
  {
   "cell_type": "code",
   "execution_count": 1,
   "metadata": {},
   "outputs": [
    {
     "name": "stdout",
     "output_type": "stream",
     "text": [
      "77\n"
     ]
    }
   ],
   "source": [
    "import random\n",
    "print(random.randint(1, 100))"
   ]
  },
  {
   "cell_type": "code",
   "execution_count": 3,
   "metadata": {},
   "outputs": [
    {
     "name": "stdout",
     "output_type": "stream",
     "text": [
      "15\n"
     ]
    }
   ],
   "source": [
    "import random as rd\n",
    "print(rd.randint(1, 100))\n"
   ]
  },
  {
   "cell_type": "code",
   "execution_count": 4,
   "metadata": {},
   "outputs": [
    {
     "name": "stdout",
     "output_type": "stream",
     "text": [
      "22\n"
     ]
    }
   ],
   "source": [
    "from random import randint\n",
    "print(randint(1,100))#random라이브러리에서 특수한 기능만 불러와 봅니다. 'randint'라는 기능만을 불러옵니다. "
   ]
  },
  {
   "cell_type": "code",
   "execution_count": 12,
   "metadata": {},
   "outputs": [
    {
     "name": "stdout",
     "output_type": "stream",
     "text": [
      "80\n",
      "112\n",
      "80\n",
      "114\n",
      "98\n",
      "10\n",
      "180\n",
      "99\n",
      "182\n",
      "/////\n",
      "41\n",
      "101\n",
      "151\n",
      "144\n",
      "16\n",
      "41\n",
      "18\n",
      "49\n",
      "197\n",
      "65\n"
     ]
    }
   ],
   "source": [
    "from random import *\n",
    "for i in range(1,10):\n",
    "  print(randint(1, 200))\n",
    "print(\"/////\")\n",
    "for i in range(10):\n",
    "  print(randint(1, 200))"
   ]
  },
  {
   "cell_type": "code",
   "execution_count": null,
   "metadata": {},
   "outputs": [],
   "source": []
  }
 ],
 "metadata": {
  "kernelspec": {
   "display_name": "base",
   "language": "python",
   "name": "python3"
  },
  "language_info": {
   "codemirror_mode": {
    "name": "ipython",
    "version": 3
   },
   "file_extension": ".py",
   "mimetype": "text/x-python",
   "name": "python",
   "nbconvert_exporter": "python",
   "pygments_lexer": "ipython3",
   "version": "3.11.5"
  }
 },
 "nbformat": 4,
 "nbformat_minor": 2
}
